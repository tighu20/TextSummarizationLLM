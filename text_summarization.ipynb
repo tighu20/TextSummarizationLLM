{
 "cells": [
  {
   "cell_type": "code",
   "execution_count": 1,
   "metadata": {},
   "outputs": [
    {
     "name": "stderr",
     "output_type": "stream",
     "text": [
      "C:\\Users\\tighu\\AppData\\Local\\Packages\\PythonSoftwareFoundation.Python.3.12_qbz5n2kfra8p0\\LocalCache\\local-packages\\Python312\\site-packages\\tqdm\\auto.py:21: TqdmWarning: IProgress not found. Please update jupyter and ipywidgets. See https://ipywidgets.readthedocs.io/en/stable/user_install.html\n",
      "  from .autonotebook import tqdm as notebook_tqdm\n"
     ]
    }
   ],
   "source": [
    "from transformers import pipeline\n",
    "import pandas as pd\n",
    "from datasets import Dataset \n",
    "from transformers.pipelines.pt_utils import KeyDataset"
   ]
  },
  {
   "cell_type": "code",
   "execution_count": 32,
   "metadata": {},
   "outputs": [],
   "source": [
    "news_articles_df = pd.read_csv(\"../Datasets/test_CNN_Article.csv\")"
   ]
  },
  {
   "cell_type": "code",
   "execution_count": 33,
   "metadata": {},
   "outputs": [
    {
     "data": {
      "text/html": [
       "<div>\n",
       "<style scoped>\n",
       "    .dataframe tbody tr th:only-of-type {\n",
       "        vertical-align: middle;\n",
       "    }\n",
       "\n",
       "    .dataframe tbody tr th {\n",
       "        vertical-align: top;\n",
       "    }\n",
       "\n",
       "    .dataframe thead th {\n",
       "        text-align: right;\n",
       "    }\n",
       "</style>\n",
       "<table border=\"1\" class=\"dataframe\">\n",
       "  <thead>\n",
       "    <tr style=\"text-align: right;\">\n",
       "      <th></th>\n",
       "      <th>text</th>\n",
       "      <th>label</th>\n",
       "    </tr>\n",
       "  </thead>\n",
       "  <tbody>\n",
       "    <tr>\n",
       "      <th>0</th>\n",
       "      <td>(CNN)Kenya Goodson, a 46-year-old Black woman...</td>\n",
       "      <td>4</td>\n",
       "    </tr>\n",
       "    <tr>\n",
       "      <th>1</th>\n",
       "      <td>Story highlightsUK PM David Cameron promises t...</td>\n",
       "      <td>3</td>\n",
       "    </tr>\n",
       "    <tr>\n",
       "      <th>2</th>\n",
       "      <td>(CNN)Additional testing is planned after Kent...</td>\n",
       "      <td>5</td>\n",
       "    </tr>\n",
       "    <tr>\n",
       "      <th>3</th>\n",
       "      <td>Sign up for CNN's Wonder Theory science newsle...</td>\n",
       "      <td>3</td>\n",
       "    </tr>\n",
       "    <tr>\n",
       "      <th>4</th>\n",
       "      <td>London (CNN)Team GB sprinter Bianca Williams h...</td>\n",
       "      <td>5</td>\n",
       "    </tr>\n",
       "  </tbody>\n",
       "</table>\n",
       "</div>"
      ],
      "text/plain": [
       "                                                text  label\n",
       "0   (CNN)Kenya Goodson, a 46-year-old Black woman...      4\n",
       "1  Story highlightsUK PM David Cameron promises t...      3\n",
       "2   (CNN)Additional testing is planned after Kent...      5\n",
       "3  Sign up for CNN's Wonder Theory science newsle...      3\n",
       "4  London (CNN)Team GB sprinter Bianca Williams h...      5"
      ]
     },
     "execution_count": 33,
     "metadata": {},
     "output_type": "execute_result"
    }
   ],
   "source": [
    "# class labels\n",
    "# 5 Sport\n",
    "# 3 News\n",
    "# 4 Politics\n",
    "# 0 business\n",
    "# 1 entertainment\n",
    "news_articles_df.head(5)"
   ]
  },
  {
   "cell_type": "code",
   "execution_count": 34,
   "metadata": {},
   "outputs": [
    {
     "data": {
      "text/plain": [
       "label\n",
       "3    2755\n",
       "5    2302\n",
       "4     344\n",
       "0     122\n",
       "2      95\n",
       "1      68\n",
       "Name: count, dtype: int64"
      ]
     },
     "execution_count": 34,
     "metadata": {},
     "output_type": "execute_result"
    }
   ],
   "source": [
    "news_articles_df['label'].value_counts()"
   ]
  },
  {
   "cell_type": "code",
   "execution_count": 35,
   "metadata": {},
   "outputs": [],
   "source": [
    "pipe = pipeline(\"summarization\", model=\"facebook/bart-large-cnn\", device= 0)"
   ]
  },
  {
   "cell_type": "code",
   "execution_count": 36,
   "metadata": {},
   "outputs": [],
   "source": [
    "news_articles_df.dropna(subset=['text'], inplace=True)\n",
    "\n",
    "# remove articles which are too short and dont require summarizations\n",
    "very_short_news_articles = []\n",
    "for ind in news_articles_df.index:\n",
    "    if len(news_articles_df['text'][ind]) < 60:\n",
    "        very_short_news_articles.append(ind)\n",
    "\n",
    "news_articles_df.drop(index=very_short_news_articles,inplace= True)\n",
    "\n",
    "# break very long articles and use the first 1024 tokens in the article\n",
    "very_long_articles = []\n",
    "for ind in news_articles_df.index:\n",
    "    if len(news_articles_df['text'][ind]) > 1024:\n",
    "        very_long_articles.append(ind)\n",
    "        news_articles_df.loc[ind, \"text\"] = news_articles_df['text'][ind][:1024]\n",
    "\n",
    "dataset = Dataset.from_pandas(news_articles_df)\n"
   ]
  },
  {
   "cell_type": "code",
   "execution_count": 37,
   "metadata": {},
   "outputs": [
    {
     "data": {
      "text/plain": [
       "5585"
      ]
     },
     "execution_count": 37,
     "metadata": {},
     "output_type": "execute_result"
    }
   ],
   "source": [
    "len(very_long_articles)"
   ]
  },
  {
   "cell_type": "code",
   "execution_count": 38,
   "metadata": {},
   "outputs": [
    {
     "data": {
      "text/plain": [
       "4"
      ]
     },
     "execution_count": 38,
     "metadata": {},
     "output_type": "execute_result"
    }
   ],
   "source": [
    "len(very_short_news_articles)"
   ]
  },
  {
   "cell_type": "code",
   "execution_count": 39,
   "metadata": {},
   "outputs": [
    {
     "name": "stdout",
     "output_type": "stream",
     "text": [
      "100\n",
      "200\n",
      "300\n",
      "400\n",
      "500\n",
      "600\n",
      "700\n",
      "800\n",
      "900\n",
      "1000\n",
      "1100\n",
      "1200\n",
      "1300\n",
      "1400\n",
      "1500\n",
      "1600\n",
      "1700\n",
      "1800\n"
     ]
    },
    {
     "name": "stderr",
     "output_type": "stream",
     "text": [
      "Your max_length is set to 60, but your input_length is only 26. Since this is a summarization task, where outputs shorter than the input are typically wanted, you might consider decreasing max_length manually, e.g. summarizer('...', max_length=13)\n"
     ]
    },
    {
     "name": "stdout",
     "output_type": "stream",
     "text": [
      "1900\n",
      "2000\n",
      "2100\n",
      "2200\n",
      "2300\n",
      "2400\n",
      "2500\n",
      "2600\n",
      "2700\n",
      "2800\n",
      "2900\n",
      "3000\n",
      "3100\n",
      "3200\n",
      "3300\n",
      "3400\n",
      "3500\n"
     ]
    },
    {
     "name": "stderr",
     "output_type": "stream",
     "text": [
      "Your max_length is set to 60, but your input_length is only 49. Since this is a summarization task, where outputs shorter than the input are typically wanted, you might consider decreasing max_length manually, e.g. summarizer('...', max_length=24)\n"
     ]
    },
    {
     "name": "stdout",
     "output_type": "stream",
     "text": [
      "3600\n",
      "3700\n",
      "3800\n",
      "3900\n",
      "4000\n",
      "4100\n",
      "4200\n",
      "4300\n",
      "4400\n",
      "4500\n",
      "4600\n",
      "4700\n"
     ]
    },
    {
     "name": "stderr",
     "output_type": "stream",
     "text": [
      "Your max_length is set to 60, but your input_length is only 32. Since this is a summarization task, where outputs shorter than the input are typically wanted, you might consider decreasing max_length manually, e.g. summarizer('...', max_length=16)\n"
     ]
    },
    {
     "name": "stdout",
     "output_type": "stream",
     "text": [
      "4800\n",
      "4900\n",
      "5000\n",
      "5100\n",
      "5200\n",
      "5300\n"
     ]
    },
    {
     "name": "stderr",
     "output_type": "stream",
     "text": [
      "Your max_length is set to 60, but your input_length is only 45. Since this is a summarization task, where outputs shorter than the input are typically wanted, you might consider decreasing max_length manually, e.g. summarizer('...', max_length=22)\n"
     ]
    },
    {
     "name": "stdout",
     "output_type": "stream",
     "text": [
      "5400\n",
      "5500\n",
      "5600\n"
     ]
    }
   ],
   "source": [
    "generated_summaries = []\n",
    "news_wc_list = []\n",
    "summary_wc_list = []\n",
    "count = 0\n",
    "\n",
    "\n",
    "for out in pipe(KeyDataset(dataset, \"text\"),max_length = 60, min_length = 20):\n",
    "    entire_news_text = KeyDataset(dataset, \"text\")[0]\n",
    "    summary = out[0][\"summary_text\"]\n",
    "    \n",
    "    generated_summaries.append(summary)\n",
    "    news_wc_list.append(entire_news_text.count(\" \") + 1)\n",
    "    summary_wc_list.append(summary.count(\" \") + 1)\n",
    "\n",
    "    count += 1\n",
    "    if count % 100 ==0: print(count)"
   ]
  },
  {
   "cell_type": "code",
   "execution_count": 40,
   "metadata": {},
   "outputs": [
    {
     "data": {
      "text/plain": [
       "(5680, 5680, 5680)"
      ]
     },
     "execution_count": 40,
     "metadata": {},
     "output_type": "execute_result"
    }
   ],
   "source": [
    "len(generated_summaries),len(news_wc_list), len(summary_wc_list)"
   ]
  },
  {
   "cell_type": "code",
   "execution_count": 41,
   "metadata": {},
   "outputs": [
    {
     "data": {
      "text/plain": [
       "\"Kenya Goodson, a 46-year-old Black woman from Tuscaloosa, Alabama, has voted in every election since she was 19. Last week's Supreme Court decision to allow Alabama's new congressional map has left Goodson discouraged about casting a ballot herself.\""
      ]
     },
     "execution_count": 41,
     "metadata": {},
     "output_type": "execute_result"
    }
   ],
   "source": [
    "generated_summaries[0]"
   ]
  },
  {
   "cell_type": "code",
   "execution_count": 42,
   "metadata": {},
   "outputs": [
    {
     "data": {
      "text/plain": [
       "(169, 38)"
      ]
     },
     "execution_count": 42,
     "metadata": {},
     "output_type": "execute_result"
    }
   ],
   "source": [
    "news_wc_list[0], summary_wc_list[0]"
   ]
  },
  {
   "cell_type": "code",
   "execution_count": 43,
   "metadata": {},
   "outputs": [],
   "source": [
    "# calculate summary length % based on news article length\n",
    "summary_precentage_list = []\n",
    "for idx in range(len(generated_summaries)):\n",
    "\n",
    "    summary_precentage_list.append((summary_wc_list[idx]/news_wc_list[idx]) * 100)\n",
    "\n"
   ]
  },
  {
   "cell_type": "code",
   "execution_count": 45,
   "metadata": {},
   "outputs": [
    {
     "data": {
      "text/plain": [
       "[22.485207100591715,\n",
       " 21.893491124260358,\n",
       " 20.118343195266274,\n",
       " 21.301775147928996,\n",
       " 16.56804733727811,\n",
       " 12.42603550295858,\n",
       " 13.017751479289942,\n",
       " 17.159763313609467,\n",
       " 27.218934911242602,\n",
       " 18.34319526627219]"
      ]
     },
     "execution_count": 45,
     "metadata": {},
     "output_type": "execute_result"
    }
   ],
   "source": [
    "summary_precentage_list[:10]"
   ]
  },
  {
   "cell_type": "code",
   "execution_count": 47,
   "metadata": {},
   "outputs": [
    {
     "data": {
      "text/plain": [
       "20.119280773397783"
      ]
     },
     "execution_count": 47,
     "metadata": {},
     "output_type": "execute_result"
    }
   ],
   "source": [
    "# average summary as percentage length of the original news article\n",
    "\n",
    "sum(summary_precentage_list) / len(summary_precentage_list)\n",
    "\n",
    "# on average the generated summary was around 20% in length of the original news article"
   ]
  },
  {
   "cell_type": "code",
   "execution_count": 49,
   "metadata": {},
   "outputs": [
    {
     "data": {
      "text/plain": [
       "217"
      ]
     },
     "execution_count": 49,
     "metadata": {},
     "output_type": "execute_result"
    }
   ],
   "source": [
    "maximum_percentage= max(summary_precentage_list)\n",
    "summary_precentage_list.index(maximum_percentage)"
   ]
  },
  {
   "cell_type": "code",
   "execution_count": 50,
   "metadata": {},
   "outputs": [
    {
     "data": {
      "text/plain": [
       "{'text': \"A version of this story appeared in the January 21 edition of CNN's Royal News, a weekly dispatch bringing you the inside track on Britain's royal family. Sign up here.  London (CNN)After the Queen's actions to retire Prince Andrew last week, questions have been raised about his remaining constitutional duty.As Counsellor of State he may still be called upon to pick up some of the Queen's duties if she were temporarily out of action due to illness or if she was traveling.Under the Regency Act 1937, the group that the monarch can empower are the next four in line to the throne who are over the age of 21. Those royals are Princes Charles, William, Andrew and Harry (after skipping over the Cambridge and Sussex children due to their young age). The late Prince Philip, as the sovereign's spouse, would also have been included if he were still alive. Read MoreTo activate the counsellors, the Queen issues a directive known as Letters Patent to formally grant authority to two or more counsellors so they can fulfill ma\",\n",
       " 'label': 3,\n",
       " '__index_level_0__': 217}"
      ]
     },
     "execution_count": 50,
     "metadata": {},
     "output_type": "execute_result"
    }
   ],
   "source": [
    "dataset[217]"
   ]
  },
  {
   "cell_type": "code",
   "execution_count": 51,
   "metadata": {},
   "outputs": [
    {
     "data": {
      "text/plain": [
       "\"Prince Andrew may still be called upon to pick up some of the Queen's duties if she were temporarily out of action due to illness or if she was traveling. Under the Regency Act 1937, the monarch can empower the next four in line to the throne who are over the age of\""
      ]
     },
     "execution_count": 51,
     "metadata": {},
     "output_type": "execute_result"
    }
   ],
   "source": [
    "generated_summaries[217]"
   ]
  },
  {
   "cell_type": "code",
   "execution_count": null,
   "metadata": {},
   "outputs": [],
   "source": [
    "# # summary config\n",
    "\n",
    "# SAMPLE = False\n",
    "\n",
    "# news_wc_list, summary_wc_list , summaries = [], [], []\n",
    "\n",
    "# count = 0\n",
    "# for ind in news_articles_df.index:\n",
    "#     news_article = news_articles_df['text'][ind][:1024]\n",
    "#     news_wc = news_article.count(\" \") + 1\n",
    "\n",
    "#     if news_wc >= 10:\n",
    "#         MAX_LEN = min(40,news_wc)\n",
    "#         MIN_LEN = 10\n",
    "\n",
    "#         result_obj = pipe(news_article, max_length = MAX_LEN, min_length = MIN_LEN, do_sample = SAMPLE)\n",
    "#         result_summary = result_obj[0]['summary_text']\n",
    "\n",
    "        \n",
    "#         summary_wc = result_summary.count(\" \") + 1\n",
    "\n",
    "#         summaries.append(result_summary)\n",
    "#         news_wc_list.append(news_wc)\n",
    "#         summary_wc_list.append(summary_wc)\n",
    "\n",
    "#     else:\n",
    "#         summaries.append(None)\n",
    "#         news_wc_list.append(0)\n",
    "#         summary_wc_list.append(0)\n",
    "\n",
    "#     count +=1\n",
    "\n",
    "#     if count % 100 ==0: print(count)\n",
    "\n",
    "\n"
   ]
  }
 ],
 "metadata": {
  "kernelspec": {
   "display_name": "Python 3",
   "language": "python",
   "name": "python3"
  },
  "language_info": {
   "codemirror_mode": {
    "name": "ipython",
    "version": 3
   },
   "file_extension": ".py",
   "mimetype": "text/x-python",
   "name": "python",
   "nbconvert_exporter": "python",
   "pygments_lexer": "ipython3",
   "version": "3.12.2"
  }
 },
 "nbformat": 4,
 "nbformat_minor": 2
}
